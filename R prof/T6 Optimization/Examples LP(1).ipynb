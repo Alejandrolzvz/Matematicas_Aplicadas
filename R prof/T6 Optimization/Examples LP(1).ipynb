{
 "cells": [
  {
   "attachments": {
    "E1AP.png": {
     "image/png": "[encoded data removed]"
    }
   },
   "cell_type": "markdown",
   "metadata": {},
   "source": [
    "RMC Laboratories is a small company that manufactures a variety of chemical-based products. In a particular production process, three raw materials are used to produce two products: a fuel additive and a solvent base. The fuel additive is sold to oil companies and is used in the production of gasoline and related fuels. The solvent base is sold to a variety of chemical companies and is used in household and industrial cleaning products. The three raw materials are mixed to make the fuel additive and the solvent base as follows:\n",
    "\n",
    "<div>\n",
    "<img src=\"attachment:E1AP.png\" width=\"300\"/>\n",
    "</div>\n",
    "\n",
    "\n",
    "RMC production is restricted by limited availability of all three raw materials. For the current production period, RMC has available the quantities given in the table.\n",
    "Due to waste and the nature of the production process, unused materials in a production run cannot be stored, are useless, and must be discarded. The accounting department analyzed the production figures, assigned all relevant costs, and arrived at prices that, for both products, will produce a contribution to profit of \\$40 per ton of fuel additive and \\$30 for each ton of solvent base produced. Determine the amount of fuel additive and the amount of solvent base to be produced in order to maximize the contribution to total profit.\n",
    "The mathematical model is:\n",
    "\n",
    "Maximizar\n",
    "\n",
    "$z = 40x + 30y$\n",
    "\n",
    "Subject to\n",
    "\n",
    "$0.4x + 0.5y <= 20$\n",
    "        \n",
    "$0.2y <= 5$\n",
    "\n",
    "$0.6x + 0.3y <= 21$\n",
    "\n",
    "$x, y >= 0$\n",
    "\n"
   ]
  },
  {
   "cell_type": "code",
   "execution_count": 78,
   "metadata": {},
   "outputs": [],
   "source": [
    "from pulp import *"
   ]
  },
  {
   "cell_type": "code",
   "execution_count": 79,
   "metadata": {},
   "outputs": [],
   "source": [
    "#Initialize class\n",
    "\n",
    "model = LpProblem(\"Maximize_RMC\", LpMaximize)"
   ]
  },
  {
   "cell_type": "code",
   "execution_count": 80,
   "metadata": {},
   "outputs": [],
   "source": [
    "#Define Decision Variables\n",
    "\n",
    "x = LpVariable('x',0, None)\n",
    "y = LpVariable('y',0, None)"
   ]
  },
  {
   "cell_type": "code",
   "execution_count": 81,
   "metadata": {},
   "outputs": [],
   "source": [
    "#Define Objectve Function\n",
    "\n",
    "model += 40 * x + 30 * y\n"
   ]
  },
  {
   "cell_type": "code",
   "execution_count": 82,
   "metadata": {},
   "outputs": [],
   "source": [
    "#Define constraints\n",
    "\n",
    "model += 0.4 * x + 0.5 * y <= 20\n",
    "model += 0 * x + 0.2 * y <= 5\n",
    "model += 0.6 * x + 0.3 * y <= 21"
   ]
  },
  {
   "cell_type": "code",
   "execution_count": 83,
   "metadata": {},
   "outputs": [
    {
     "data": {
      "text/plain": [
       "1"
      ]
     },
     "execution_count": 83,
     "metadata": {},
     "output_type": "execute_result"
    }
   ],
   "source": [
    "model.solve()"
   ]
  },
  {
   "cell_type": "code",
   "execution_count": 84,
   "metadata": {},
   "outputs": [
    {
     "name": "stdout",
     "output_type": "stream",
     "text": [
      "Use 25.0 Fuel Aditive\n",
      "Produce 20.0 Solvent base\n",
      "1600.0\n"
     ]
    }
   ],
   "source": [
    "print(\"Use {} Fuel Aditive\".format(x.varValue))\n",
    "print(\"Produce {} Solvent base\".format(y.varValue))\n",
    "print(value(model.objective))"
   ]
  },
  {
   "cell_type": "code",
   "execution_count": 13,
   "metadata": {},
   "outputs": [
    {
     "name": "stdout",
     "output_type": "stream",
     "text": [
      "Collecting tsp\n",
      "  Downloading https://files.pythonhosted.org/packages/e8/6b/7bbac569f45f2aca1b4c99b8e30f4941428644c858f9056684fb7d82a2b0/tsp-0.0.6.tar.gz\n",
      "Requirement already satisfied: pulp in c:\\users\\l03054037\\appdata\\local\\continuum\\anaconda3\\lib\\site-packages (from tsp)\n",
      "Collecting more-itertools (from tsp)\n",
      "  Downloading https://files.pythonhosted.org/packages/72/96/4297306cc270eef1e3461da034a3bebe7c84eff052326b130824e98fc3fb/more_itertools-8.2.0-py3-none-any.whl (43kB)\n",
      "Requirement already satisfied: pyparsing>=2.0.1 in c:\\users\\l03054037\\appdata\\local\\continuum\\anaconda3\\lib\\site-packages (from pulp->tsp)\n",
      "Building wheels for collected packages: tsp\n",
      "  Running setup.py bdist_wheel for tsp: started\n",
      "  Running setup.py bdist_wheel for tsp: finished with status 'done'\n",
      "  Stored in directory: C:\\Users\\L03054037\\AppData\\Local\\pip\\Cache\\wheels\\fe\\db\\46\\16a5cfa0fab732ae2debeaa59561b4962169fd56a944a28039\n",
      "Successfully built tsp\n",
      "Installing collected packages: more-itertools, tsp\n",
      "Successfully installed more-itertools-8.2.0 tsp-0.0.6\n"
     ]
    },
    {
     "name": "stderr",
     "output_type": "stream",
     "text": [
      "You are using pip version 9.0.1, however version 20.0.2 is available.\n",
      "You should consider upgrading via the 'python -m pip install --upgrade pip' command.\n"
     ]
    }
   ],
   "source": [
    "!pip install tsp"
   ]
  },
  {
   "cell_type": "code",
   "execution_count": 1,
   "metadata": {},
   "outputs": [],
   "source": [
    "import tsp\n",
    "import numpy as np"
   ]
  },
  {
   "attachments": {
    "TSP.png": {
     "image/png": "[encoded data removed]"
    }
   },
   "cell_type": "markdown",
   "metadata": {},
   "source": [
    "Consider the following map containing 8 cities, numbered 0 to 7\n",
    "![TSP.png](attachment:TSP.png)\n",
    "\n",
    "A salesperson would like to travel to each of these cities, starting and ending in the same city and visiting each of the other cities exactly once.\n",
    "\n"
   ]
  },
  {
   "cell_type": "code",
   "execution_count": 2,
   "metadata": {},
   "outputs": [
    {
     "name": "stdout",
     "output_type": "stream",
     "text": [
      "(17.34261754766733, [0, 7, 6, 5, 4, 3, 2, 1])\n"
     ]
    }
   ],
   "source": [
    "t = tsp.tsp([(1, 1), (4, 2), (5, 2), (6, 4), (4, 4), (3, 6), (1, 5), (2, 3)])\n",
    "print(t)"
   ]
  },
  {
   "cell_type": "code",
   "execution_count": 46,
   "metadata": {},
   "outputs": [
    {
     "name": "stdout",
     "output_type": "stream",
     "text": [
      "(4.0, [0, 2, 3, 1])\n"
     ]
    }
   ],
   "source": [
    "mat = [[  0,   1, 1, 1.5],\n",
    "       [  1,   0, 1.5, 1],\n",
    "       [  1, 1.5,   0, 1],\n",
    "       [1.5,   1,   1, 0]]  # Distance Matrix\n",
    "r = range(len(mat))\n",
    "# Dictionary of distance\n",
    "dist = {(i, j): mat[i][j] for i in r for j in r}\n",
    "print(tsp.tsp(r, dist))"
   ]
  },
  {
   "cell_type": "code",
   "execution_count": 3,
   "metadata": {},
   "outputs": [],
   "source": [
    "import csv\n",
    "import pandas as pd"
   ]
  },
  {
   "cell_type": "code",
   "execution_count": 4,
   "metadata": {},
   "outputs": [],
   "source": [
    "\n",
    "df=pd.read_csv('C:/Users/L03054037/Desktop/costTSP.csv', sep=',',header=None)\n",
    "\n",
    "#df.values array([[ 1. , 2. , 3. ], [ 4. , 5.5, 6. ]])"
   ]
  },
  {
   "cell_type": "code",
   "execution_count": 5,
   "metadata": {},
   "outputs": [],
   "source": [
    "mat = df.values.tolist()\n"
   ]
  },
  {
   "cell_type": "code",
   "execution_count": 6,
   "metadata": {},
   "outputs": [
    {
     "name": "stdout",
     "output_type": "stream",
     "text": [
      "(234.0, [0, 6, 5, 2, 4, 3, 1, 7])\n"
     ]
    }
   ],
   "source": [
    "r = range(len(mat))\n",
    "# Dictionary of distance\n",
    "dist = {(i, j): mat[i][j] for i in r for j in r}\n",
    "print(tsp.tsp(r, dist))"
   ]
  },
  {
   "cell_type": "code",
   "execution_count": 45,
   "metadata": {},
   "outputs": [],
   "source": [
    "r = range(len(mat))"
   ]
  },
  {
   "cell_type": "code",
   "execution_count": 38,
   "metadata": {},
   "outputs": [],
   "source": [
    "r = range(len(df))"
   ]
  },
  {
   "cell_type": "code",
   "execution_count": 47,
   "metadata": {},
   "outputs": [
    {
     "data": {
      "text/plain": [
       "list"
      ]
     },
     "execution_count": 47,
     "metadata": {},
     "output_type": "execute_result"
    }
   ],
   "source": [
    "type(mat)"
   ]
  },
  {
   "cell_type": "code",
   "execution_count": 60,
   "metadata": {},
   "outputs": [
    {
     "name": "stdout",
     "output_type": "stream",
     "text": [
      "Help on module tsp:\n",
      "\n",
      "NAME\n",
      "    tsp\n",
      "\n",
      "FUNCTIONS\n",
      "    tsp(nodes, dist=None)\n",
      "        巡回セールスマン問題\n",
      "        入力\n",
      "            nodes: 点(dist未指定時は、座標)のリスト\n",
      "            dist: (i,j)をキー、距離を値とした辞書\n",
      "        出力\n",
      "            距離と点番号リスト\n",
      "    \n",
      "    tsp2(pos)\n",
      "        巡回セールスマン問題\n",
      "        入力\n",
      "            pos: 座標のリスト\n",
      "        出力\n",
      "            距離と点番号リスト\n",
      "    \n",
      "    tsp3(point)\n",
      "\n",
      "FILE\n",
      "    c:\\users\\l03054037\\appdata\\local\\continuum\\anaconda3\\lib\\site-packages\\tsp.py\n",
      "\n",
      "\n"
     ]
    }
   ],
   "source": [
    "help (tsp)"
   ]
  },
  {
   "cell_type": "code",
   "execution_count": null,
   "metadata": {},
   "outputs": [],
   "source": []
  }
 ],
 "metadata": {
  "kernelspec": {
   "display_name": "Python 3",
   "language": "python",
   "name": "python3"
  },
  "language_info": {
   "codemirror_mode": {
    "name": "ipython",
    "version": 3
   },
   "file_extension": ".py",
   "mimetype": "text/x-python",
   "name": "python",
   "nbconvert_exporter": "python",
   "pygments_lexer": "ipython3",
   "version": "3.6.4"
  }
 },
 "nbformat": 4,
 "nbformat_minor": 2
}
