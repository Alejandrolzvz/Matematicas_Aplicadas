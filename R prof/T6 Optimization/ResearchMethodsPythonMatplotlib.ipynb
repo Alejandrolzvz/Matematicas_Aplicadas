{
 "cells": [
  {
   "cell_type": "markdown",
   "metadata": {},
   "source": [
    "# Introduction to Python3: Matplotlib"
   ]
  },
  {
   "cell_type": "markdown",
   "metadata": {},
   "source": [
    "* Es un estándar _de facto_ para visualización grafica de datos en Python\n",
    "* Pretende ser similara a las funciones de visualización de MATLAB\n",
    "* Existen diferentes formas de usarla: ```pyplot``` y orientada a objetos"
   ]
  },
  {
   "cell_type": "markdown",
   "metadata": {},
   "source": [
    "Vamos a utilizar el modo ```inline``` para que las figuras aparezcan incrustadas en el notebook"
   ]
  },
  {
   "cell_type": "code",
   "execution_count": null,
   "metadata": {
    "collapsed": true
   },
   "outputs": [],
   "source": [
    "%matplotlib inline"
   ]
  },
  {
   "cell_type": "code",
   "execution_count": null,
   "metadata": {
    "collapsed": true
   },
   "outputs": [],
   "source": [
    "import numpy as np\n",
    "import matplotlib.pyplot as plt"
   ]
  },
  {
   "cell_type": "markdown",
   "metadata": {},
   "source": [
    "## Interfaz pyplot\n",
    "\n",
    "* Función ```plot```: listas o arrays\n",
    "* Personalizacion de líneas, colores, leyendas\n",
    "* Otros tipos de gráficas: ```scatter, contour, fill_between```\n",
    "* Funciones en 1D y 2D\n",
    "* ```plt.savefig```"
   ]
  },
  {
   "cell_type": "code",
   "execution_count": null,
   "metadata": {},
   "outputs": [],
   "source": [
    "plt.plot([3, 0, -1, 4, 2])"
   ]
  },
  {
   "cell_type": "code",
   "execution_count": null,
   "metadata": {},
   "outputs": [],
   "source": [
    "plt.plot([0.1, 0.2, 0.3, 0.4, 0.5], [3, 0, -1, 4, 2])"
   ]
  },
  {
   "cell_type": "markdown",
   "metadata": {},
   "source": [
    "Se graficará la función $y = e^{-x^2}$"
   ]
  },
  {
   "cell_type": "code",
   "execution_count": null,
   "metadata": {
    "collapsed": true
   },
   "outputs": [],
   "source": [
    "def f(x):\n",
    "    return np.exp(-x **2)"
   ]
  },
  {
   "cell_type": "code",
   "execution_count": null,
   "metadata": {
    "collapsed": true
   },
   "outputs": [],
   "source": [
    "x = np.linspace(-1, 5, num=40)"
   ]
  },
  {
   "cell_type": "code",
   "execution_count": null,
   "metadata": {},
   "outputs": [],
   "source": [
    "plt.plot(x,f(x), 'og', label='Función f(x)')\n",
    "plt.xlabel('Eje x')\n",
    "plt.ylabel('Funcion $f(x)$')\n",
    "plt.grid(True)\n",
    "plt.legend()"
   ]
  },
  {
   "cell_type": "markdown",
   "metadata": {},
   "source": [
    "Desde la ayuda de Jupyter es posible acceder a la página web de ```matplotlib``` donde se puede encontrar una galería extensa del tipo de gráficos que se pueden hacer. Cada ejemplo viene acompañado del código correspondiente."
   ]
  },
  {
   "cell_type": "markdown",
   "metadata": {},
   "source": [
    "## Objetos de pyplot"
   ]
  },
  {
   "cell_type": "code",
   "execution_count": null,
   "metadata": {},
   "outputs": [],
   "source": [
    "x"
   ]
  },
  {
   "cell_type": "code",
   "execution_count": null,
   "metadata": {},
   "outputs": [],
   "source": [
    "f(x)"
   ]
  },
  {
   "cell_type": "code",
   "execution_count": null,
   "metadata": {},
   "outputs": [],
   "source": [
    "fig, axes = plt.subplots()\n",
    "axes.plot(x, f(x), 'ro', label ='Funcion f(x)')\n",
    "axes.set_xlim(-2,4)\n",
    "axes.set_ylim(-1,2)\n",
    "axes.grid(True)\n",
    "fig.savefig(\"grafica1.pdf\")"
   ]
  },
  {
   "cell_type": "code",
   "execution_count": null,
   "metadata": {},
   "outputs": [],
   "source": [
    "fig, axes = plt.subplots(1,2, sharey=True)\n",
    "axes[0].plot(x,f(x), color = 'blue')\n",
    "axes[0].set_xlabel('Eje x izquierda')\n",
    "axes[1].plot(x,-f(x),'r')\n",
    "axes[1].set_xlabel('Eje x derecha')\n",
    "axes[0].grid(True)"
   ]
  },
  {
   "cell_type": "markdown",
   "metadata": {},
   "source": [
    "## Graficas de dispersión o Scater"
   ]
  },
  {
   "cell_type": "code",
   "execution_count": null,
   "metadata": {
    "scrolled": true
   },
   "outputs": [],
   "source": [
    "x = np.random.randn(100)  # vector con 100 valores que siguen una distribución N(0, 1)\n",
    "y = np.random.randn(100)\n",
    "s = 200* np.random.rand(100) #vector que define el tamaño de los puntos\n",
    "c = np.random.rand(100)   # vector que define el color de los puntos\n",
    "plt.scatter(x,y,s,c, cmap=plt.cm.BuGn) #cmap define el mapa de colores\n",
    "plt.grid(True)\n",
    "plt.title('$E=mc^2$')"
   ]
  },
  {
   "cell_type": "code",
   "execution_count": null,
   "metadata": {},
   "outputs": [],
   "source": [
    "x = np.random.randn(10)\n",
    "x"
   ]
  },
  {
   "cell_type": "markdown",
   "metadata": {},
   "source": [
    "## Referencias\n",
    "\n",
    "* Documentación de pyplot http://matplotlib.org/api/pyplot_api.html\n",
    "* Tutorial de matplotlib en español http://pybonacci.wordpress.com/tag/tutorial-matplotlib-pyplot/\n",
    "* Referencia rápida de matplotlib http://www.scipy-lectures.org/intro/matplotlib/matplotlib.html#quick-references"
   ]
  },
  {
   "cell_type": "markdown",
   "metadata": {},
   "source": [
    "## Gráficos en 3D\n",
    "\n",
    "Se desea representar la función $g(x,y)= cos(x) + sin^2(y)$"
   ]
  },
  {
   "cell_type": "code",
   "execution_count": null,
   "metadata": {
    "collapsed": true
   },
   "outputs": [],
   "source": [
    "x = np.linspace(-2,2)\n",
    "y = np.linspace(-2,2)\n",
    "\n",
    "xx,yy = np.meshgrid(x,y)"
   ]
  },
  {
   "cell_type": "code",
   "execution_count": null,
   "metadata": {
    "collapsed": true
   },
   "outputs": [],
   "source": [
    "def g(x,y):\n",
    "    return np.cos(x) + np.sin(y)**2"
   ]
  },
  {
   "cell_type": "code",
   "execution_count": null,
   "metadata": {
    "collapsed": true
   },
   "outputs": [],
   "source": [
    "zz = g(xx,yy)"
   ]
  },
  {
   "cell_type": "code",
   "execution_count": null,
   "metadata": {},
   "outputs": [],
   "source": [
    "fig , axes = plt.subplots()\n",
    "axes.contour(xx, yy, zz, cmap = plt.cm.autumn)"
   ]
  },
  {
   "cell_type": "code",
   "execution_count": null,
   "metadata": {},
   "outputs": [],
   "source": [
    "fig, axes = plt.subplots()\n",
    "axes.contourf(xx, yy, zz, np.linspace (-2,2), cmap = plt.cm.autumn)"
   ]
  },
  {
   "cell_type": "markdown",
   "metadata": {},
   "source": [
    "## Ejemplo real\n",
    "\n",
    "Se desea graficar un conjunto de datos contenidos en un archivo externo.\n",
    "Usamos el archivo _temperaturas.csv_ que tiene como campos STATION, DATE, MAX, MIN"
   ]
  },
  {
   "cell_type": "code",
   "execution_count": null,
   "metadata": {
    "collapsed": true
   },
   "outputs": [],
   "source": [
    "datos = np.loadtxt('temperaturas.csv', usecols=(1,2,3), skiprows=1, delimiter=',')"
   ]
  },
  {
   "cell_type": "code",
   "execution_count": null,
   "metadata": {},
   "outputs": [],
   "source": [
    "fig, axes = plt.subplots()\n",
    "\n",
    "# cuenta el número de renglones del archivo\n",
    "n = len(datos[:, 1])\n",
    "# contruye un vector en el rango (0,n)\n",
    "x = np.arange(n)\n",
    "\n",
    "# grafica las temperaturas máximas\n",
    "axes.plot(x, datos[:, 1], 'r')\n",
    "# grafica las temperaturas mínimas\n",
    "axes.plot(x, datos[:, 2], 'b')\n",
    "# calcula temperatura media y la grafica\n",
    "temp_media = (datos[:, 1] + datos[:, 2])/2\n",
    "axes.plot(x,temp_media, 'k')"
   ]
  },
  {
   "cell_type": "code",
   "execution_count": null,
   "metadata": {
    "collapsed": true
   },
   "outputs": [],
   "source": []
  }
 ],
 "metadata": {
  "kernelspec": {
   "display_name": "Python 3",
   "language": "python",
   "name": "python3"
  },
  "language_info": {
   "codemirror_mode": {
    "name": "ipython",
    "version": 3
   },
   "file_extension": ".py",
   "mimetype": "text/x-python",
   "name": "python",
   "nbconvert_exporter": "python",
   "pygments_lexer": "ipython3",
   "version": "3.6.3"
  }
 },
 "nbformat": 4,
 "nbformat_minor": 1
}
